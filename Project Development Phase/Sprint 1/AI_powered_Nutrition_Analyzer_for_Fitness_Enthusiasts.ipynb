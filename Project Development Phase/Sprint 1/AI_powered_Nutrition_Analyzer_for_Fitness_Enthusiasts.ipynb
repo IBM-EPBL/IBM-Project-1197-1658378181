{
  "nbformat": 4,
  "nbformat_minor": 0,
  "metadata": {
    "colab": {
      "provenance": [],
      "collapsed_sections": []
    },
    "kernelspec": {
      "name": "python3",
      "display_name": "Python 3"
    },
    "language_info": {
      "name": "python"
    },
    "accelerator": "GPU",
    "gpuClass": "standard"
  },
  "cells": [
    {
      "cell_type": "markdown",
      "source": [
        "#Data Collection\n"
      ],
      "metadata": {
        "id": "oGUzNBXPxy2t"
      }
    },
    {
      "cell_type": "code",
      "execution_count": null,
      "metadata": {
        "colab": {
          "base_uri": "https://localhost:8080/"
        },
        "id": "DQpnK0dvzaAM",
        "outputId": "ef5db763-a93d-4781-e174-446e6b32ed8d"
      },
      "outputs": [
        {
          "output_type": "stream",
          "name": "stdout",
          "text": [
            "Mounted at /content/drive\n"
          ]
        }
      ],
      "source": [
        "from google.colab import drive\n",
        "drive.mount('/content/drive')"
      ]
    },
    {
      "cell_type": "code",
      "source": [
        "!unzip '/content/drive/MyDrive/Dataset/TRAIN_SET.zip'\n"
      ],
      "metadata": {
        "id": "YR2R-lc_z9Nh"
      },
      "execution_count": null,
      "outputs": []
    },
    {
      "cell_type": "code",
      "source": [
        "!unzip '/content/drive/MyDrive/Dataset/TEST_SET.zip'"
      ],
      "metadata": {
        "id": "CgNKvcpB6wKT"
      },
      "execution_count": null,
      "outputs": []
    },
    {
      "cell_type": "markdown",
      "source": [
        "#Image Preprocessing"
      ],
      "metadata": {
        "id": "obgtaygu6rCz"
      }
    },
    {
      "cell_type": "code",
      "source": [
        "#Import The ImageDataGenerator Library\n",
        "from keras.preprocessing.image import ImageDataGenerator"
      ],
      "metadata": {
        "id": "VFhU310_2HFh"
      },
      "execution_count": null,
      "outputs": []
    },
    {
      "cell_type": "code",
      "source": [
        "train_datagen = ImageDataGenerator (rescale=1./255,\n",
        "                                    shear_range=0.2,\n",
        "                                    zoom_range=0.2, \n",
        "                                    horizontal_flip=True)"
      ],
      "metadata": {
        "id": "ctPGkReU2ZjL"
      },
      "execution_count": null,
      "outputs": []
    },
    {
      "cell_type": "code",
      "source": [
        "test_datagen=ImageDataGenerator(rescale=1./255)"
      ],
      "metadata": {
        "id": "L7PC7GNt2feh"
      },
      "execution_count": null,
      "outputs": []
    },
    {
      "cell_type": "code",
      "source": [
        "#Loading our data and performing data agumentation\n",
        "#performing data agumentation to train data\n",
        "x_train = train_datagen.flow_from_directory(\n",
        "'/content/TRAIN_SET',target_size=(64, 64), batch_size=5,color_mode='rgb',class_mode='sparse')"
      ],
      "metadata": {
        "colab": {
          "base_uri": "https://localhost:8080/"
        },
        "id": "b4RkktzI28Dt",
        "outputId": "d7554746-20ec-4141-90d7-b5521ac8f1ba"
      },
      "execution_count": null,
      "outputs": [
        {
          "output_type": "stream",
          "name": "stdout",
          "text": [
            "Found 2626 images belonging to 5 classes.\n"
          ]
        }
      ]
    },
    {
      "cell_type": "code",
      "source": [
        "#performing data agumentation to test data\n",
        "x_test = test_datagen.flow_from_directory('/content/TEST_SET',target_size=(64, 64), batch_size=5,color_mode='rgb',class_mode='sparse')\n"
      ],
      "metadata": {
        "colab": {
          "base_uri": "https://localhost:8080/"
        },
        "id": "HGI_RJl33Vk4",
        "outputId": "9493a962-c881-47f5-843d-23312531f104"
      },
      "execution_count": null,
      "outputs": [
        {
          "output_type": "stream",
          "name": "stdout",
          "text": [
            "Found 1055 images belonging to 5 classes.\n"
          ]
        }
      ]
    },
    {
      "cell_type": "code",
      "source": [
        "print(x_train.class_indices) #checking the number of classes"
      ],
      "metadata": {
        "colab": {
          "base_uri": "https://localhost:8080/"
        },
        "id": "--9piFL09LlK",
        "outputId": "d1540f6a-98e3-4736-bfd6-3a9f3a70fa38"
      },
      "execution_count": null,
      "outputs": [
        {
          "output_type": "stream",
          "name": "stdout",
          "text": [
            "{'APPLES': 0, 'BANANA': 1, 'ORANGE': 2, 'PINEAPPLE': 3, 'WATERMELON': 4}\n"
          ]
        }
      ]
    },
    {
      "cell_type": "code",
      "source": [
        "\n",
        "print(x_test.class_indices)#checking the number of classes"
      ],
      "metadata": {
        "colab": {
          "base_uri": "https://localhost:8080/"
        },
        "id": "NiyqQzfl9UlV",
        "outputId": "371b0a78-47d3-44ec-fb99-91f8395f6be9"
      },
      "execution_count": null,
      "outputs": [
        {
          "output_type": "stream",
          "name": "stdout",
          "text": [
            "{'APPLES': 0, 'BANANA': 1, 'ORANGE': 2, 'PINEAPPLE': 3, 'WATERMELON': 4}\n"
          ]
        }
      ]
    },
    {
      "cell_type": "code",
      "source": [
        "from collections import Counter as c \n",
        "c(x_train .labels)"
      ],
      "metadata": {
        "colab": {
          "base_uri": "https://localhost:8080/"
        },
        "id": "936DiFg19b8s",
        "outputId": "e899b6ae-d57b-42a9-f9b3-2eaec43c8f63"
      },
      "execution_count": null,
      "outputs": [
        {
          "output_type": "execute_result",
          "data": {
            "text/plain": [
              "Counter({0: 606, 1: 445, 2: 479, 3: 621, 4: 475})"
            ]
          },
          "metadata": {},
          "execution_count": 12
        }
      ]
    },
    {
      "cell_type": "markdown",
      "source": [
        "#Model Building"
      ],
      "metadata": {
        "id": "so4iZ0IG7t4F"
      }
    },
    {
      "cell_type": "code",
      "source": [
        "# Importing Neccessary Libraries\n",
        "import numpy as np #used for numerical analysis\n",
        "import tensorflow #open source used for both ML and DL for computation\n",
        "from tensorflow.keras.models import Sequential #it is a plain stack of Layers\n",
        "from tensorflow.keras import layers #A Layer consists of a tensor-in tensor-out computation function\n",
        "#Dense Layer is the regular deeply connected neural network Layer\n",
        "from tensorflow.keras.layers import Dense, Flatten\n",
        "#Faltten-used fot flattening the input or change the dimension\n",
        "from tensorflow.keras.layers import Conv2D, MaxPooling2D, Dropout #Convolutional layer\n",
        "#MaxPooling2D-for downsampling the image\n",
        "from keras.preprocessing.image import ImageDataGenerator"
      ],
      "metadata": {
        "id": "hpfLX3is9tG5"
      },
      "execution_count": null,
      "outputs": []
    },
    {
      "cell_type": "code",
      "source": [
        "model=Sequential()"
      ],
      "metadata": {
        "id": "cdQKJlcl-MWs"
      },
      "execution_count": null,
      "outputs": []
    },
    {
      "cell_type": "markdown",
      "source": [
        "### Creating the model\n"
      ],
      "metadata": {
        "id": "Eg5FY5O8-xd-"
      }
    },
    {
      "cell_type": "code",
      "source": [
        "# Initializing the CNN\n",
        "classifier = Sequential()\n",
        "# First convolution Layer and pooling\n",
        "classifier.add(Conv2D(32, (3, 3), input_shape=(64, 64, 3), activation='relu')) \n",
        "classifier.add(MaxPooling2D(pool_size=(2, 2)))\n",
        "# Second convolution Layer and pooling\n",
        "classifier.add(Conv2D(32, (3, 3), activation='relu'))\n",
        "# input_shape is going to be the pooled feature maps from the previous convolution Layer\n",
        "classifier.add(MaxPooling2D(pool_size=(2, 2)))\n",
        "# Flattening the Layers\n",
        "classifier.add(Flatten())"
      ],
      "metadata": {
        "id": "WQLdHcnK_Nu3"
      },
      "execution_count": null,
      "outputs": []
    },
    {
      "cell_type": "code",
      "source": [
        "classifier.add(Dense (units=128, activation='relu')) \n",
        "classifier.add(Dense (units=5, activation='softmax')) # softmax for more than 2"
      ],
      "metadata": {
        "id": "MrHWOpR1AEr8"
      },
      "execution_count": null,
      "outputs": []
    },
    {
      "cell_type": "code",
      "source": [
        "classifier.summary()"
      ],
      "metadata": {
        "colab": {
          "base_uri": "https://localhost:8080/"
        },
        "id": "8OS4IJit_knY",
        "outputId": "41213b5f-dabf-420a-991d-f81dfd5af56d"
      },
      "execution_count": null,
      "outputs": [
        {
          "output_type": "stream",
          "name": "stdout",
          "text": [
            "Model: \"sequential_1\"\n",
            "_________________________________________________________________\n",
            " Layer (type)                Output Shape              Param #   \n",
            "=================================================================\n",
            " conv2d (Conv2D)             (None, 62, 62, 32)        896       \n",
            "                                                                 \n",
            " max_pooling2d (MaxPooling2D  (None, 31, 31, 32)       0         \n",
            " )                                                               \n",
            "                                                                 \n",
            " conv2d_1 (Conv2D)           (None, 29, 29, 32)        9248      \n",
            "                                                                 \n",
            " max_pooling2d_1 (MaxPooling  (None, 14, 14, 32)       0         \n",
            " 2D)                                                             \n",
            "                                                                 \n",
            " flatten (Flatten)           (None, 6272)              0         \n",
            "                                                                 \n",
            " dense (Dense)               (None, 128)               802944    \n",
            "                                                                 \n",
            " dense_1 (Dense)             (None, 5)                 645       \n",
            "                                                                 \n",
            "=================================================================\n",
            "Total params: 813,733\n",
            "Trainable params: 813,733\n",
            "Non-trainable params: 0\n",
            "_________________________________________________________________\n"
          ]
        }
      ]
    },
    {
      "cell_type": "code",
      "source": [
        "classifier.compile(optimizer='adam', loss='sparse_categorical_crossentropy', metrics=['accuracy'])"
      ],
      "metadata": {
        "id": "8bRgpVvoARU_"
      },
      "execution_count": null,
      "outputs": []
    },
    {
      "cell_type": "markdown",
      "source": [
        "##Fitting the model"
      ],
      "metadata": {
        "id": "t5hSm2UdA724"
      }
    },
    {
      "cell_type": "code",
      "source": [
        "classifier.fit_generator( generator=x_train, steps_per_epoch = len(x_train), epochs=20, validation_data=x_test, validation_steps = len(x_test)) # No of images in test set"
      ],
      "metadata": {
        "colab": {
          "base_uri": "https://localhost:8080/"
        },
        "id": "x0wi9e5vAaKW",
        "outputId": "c7143036-de4a-4515-abdf-c32892905c4c"
      },
      "execution_count": null,
      "outputs": [
        {
          "output_type": "stream",
          "name": "stdout",
          "text": [
            "Epoch 1/20\n"
          ]
        },
        {
          "output_type": "stream",
          "name": "stderr",
          "text": [
            "/usr/local/lib/python3.7/dist-packages/ipykernel_launcher.py:1: UserWarning: `Model.fit_generator` is deprecated and will be removed in a future version. Please use `Model.fit`, which supports generators.\n",
            "  \"\"\"Entry point for launching an IPython kernel.\n"
          ]
        },
        {
          "output_type": "stream",
          "name": "stdout",
          "text": [
            "526/526 [==============================] - 15s 14ms/step - loss: 0.1821 - accuracy: 0.9360 - val_loss: 0.0239 - val_accuracy: 1.0000\n",
            "Epoch 2/20\n",
            "526/526 [==============================] - 7s 14ms/step - loss: 0.0011 - accuracy: 1.0000 - val_loss: 0.0445 - val_accuracy: 0.9782\n",
            "Epoch 3/20\n",
            "526/526 [==============================] - 8s 15ms/step - loss: 0.0567 - accuracy: 0.9848 - val_loss: 0.0134 - val_accuracy: 0.9924\n",
            "Epoch 4/20\n",
            "526/526 [==============================] - 8s 15ms/step - loss: 3.1465e-04 - accuracy: 1.0000 - val_loss: 0.0102 - val_accuracy: 0.9981\n",
            "Epoch 5/20\n",
            "526/526 [==============================] - 7s 13ms/step - loss: 1.1439e-04 - accuracy: 1.0000 - val_loss: 0.0106 - val_accuracy: 0.9943\n",
            "Epoch 6/20\n",
            "526/526 [==============================] - 7s 14ms/step - loss: 7.3579e-05 - accuracy: 1.0000 - val_loss: 0.0095 - val_accuracy: 0.9943\n",
            "Epoch 7/20\n",
            "526/526 [==============================] - 7s 14ms/step - loss: 4.1322e-05 - accuracy: 1.0000 - val_loss: 0.0113 - val_accuracy: 0.9924\n",
            "Epoch 8/20\n",
            "526/526 [==============================] - 7s 13ms/step - loss: 2.7354e-05 - accuracy: 1.0000 - val_loss: 0.0182 - val_accuracy: 0.9915\n",
            "Epoch 9/20\n",
            "526/526 [==============================] - 7s 13ms/step - loss: 2.4434e-05 - accuracy: 1.0000 - val_loss: 0.0106 - val_accuracy: 0.9924\n",
            "Epoch 10/20\n",
            "526/526 [==============================] - 7s 14ms/step - loss: 3.6141e-05 - accuracy: 1.0000 - val_loss: 0.0481 - val_accuracy: 0.9763\n",
            "Epoch 11/20\n",
            "526/526 [==============================] - 7s 14ms/step - loss: 1.0413e-05 - accuracy: 1.0000 - val_loss: 0.0256 - val_accuracy: 0.9877\n",
            "Epoch 12/20\n",
            "526/526 [==============================] - 7s 14ms/step - loss: 7.0992e-06 - accuracy: 1.0000 - val_loss: 0.0167 - val_accuracy: 0.9915\n",
            "Epoch 13/20\n",
            "526/526 [==============================] - 7s 13ms/step - loss: 4.4195e-06 - accuracy: 1.0000 - val_loss: 0.0143 - val_accuracy: 0.9915\n",
            "Epoch 14/20\n",
            "526/526 [==============================] - 7s 14ms/step - loss: 7.4918e-06 - accuracy: 1.0000 - val_loss: 0.0251 - val_accuracy: 0.9877\n",
            "Epoch 15/20\n",
            "526/526 [==============================] - 7s 14ms/step - loss: 2.5972e-06 - accuracy: 1.0000 - val_loss: 0.0189 - val_accuracy: 0.9915\n",
            "Epoch 16/20\n",
            "526/526 [==============================] - 7s 14ms/step - loss: 1.5219e-06 - accuracy: 1.0000 - val_loss: 0.0251 - val_accuracy: 0.9886\n",
            "Epoch 17/20\n",
            "526/526 [==============================] - 7s 14ms/step - loss: 5.9915e-06 - accuracy: 1.0000 - val_loss: 0.1436 - val_accuracy: 0.9725\n",
            "Epoch 18/20\n",
            "526/526 [==============================] - 7s 14ms/step - loss: 1.1050e-06 - accuracy: 1.0000 - val_loss: 0.0635 - val_accuracy: 0.9763\n",
            "Epoch 19/20\n",
            "526/526 [==============================] - 7s 14ms/step - loss: 2.1558e-06 - accuracy: 1.0000 - val_loss: 0.0413 - val_accuracy: 0.9810\n",
            "Epoch 20/20\n",
            "526/526 [==============================] - 7s 14ms/step - loss: 7.1139e-07 - accuracy: 1.0000 - val_loss: 0.0497 - val_accuracy: 0.9801\n"
          ]
        },
        {
          "output_type": "execute_result",
          "data": {
            "text/plain": [
              "<keras.callbacks.History at 0x7efbd0810f10>"
            ]
          },
          "metadata": {},
          "execution_count": 19
        }
      ]
    },
    {
      "cell_type": "code",
      "source": [
        "classifier.save('nutrition.h5')\n",
        "\n"
      ],
      "metadata": {
        "id": "pKwRZfl5-saC"
      },
      "execution_count": null,
      "outputs": []
    },
    {
      "cell_type": "code",
      "source": [
        "! tar -zcvf nutrition-analyzer.tgz nutrition.h5"
      ],
      "metadata": {
        "colab": {
          "base_uri": "https://localhost:8080/"
        },
        "id": "s1O2ewGAjrJL",
        "outputId": "27355773-a801-46f0-fa2c-8b9773f861bf"
      },
      "execution_count": null,
      "outputs": [
        {
          "output_type": "stream",
          "name": "stdout",
          "text": [
            "nutrition.h5\n"
          ]
        }
      ]
    },
    {
      "cell_type": "markdown",
      "source": [
        "#Train Model On IBM"
      ],
      "metadata": {
        "id": "B0bV01VGi-Io"
      }
    },
    {
      "cell_type": "code",
      "source": [
        "#IBM Deployment\n",
        "!pip install watson-machine-learning-client"
      ],
      "metadata": {
        "id": "Fpcuw6onjLpu"
      },
      "execution_count": null,
      "outputs": []
    },
    {
      "cell_type": "code",
      "source": [
        "!pip install ibm_watson_machine_learning"
      ],
      "metadata": {
        "id": "JOJXEukZkurq"
      },
      "execution_count": null,
      "outputs": []
    },
    {
      "cell_type": "code",
      "source": [
        "from ibm_watson_machine_learning import APIClient\n",
        "\n",
        "wml_credentials = {\n",
        "  \"url\":\"https://eu-gb.ml.cloud.ibm.com\",\n",
        "  \"apikey\":\"6GnaqWQTqFVcFvGeWFlW3wiZ9LALti2pc2kB1WBhOEDk\"\n",
        "}\n",
        "\n",
        "client = APIClient(wml_credentials)\n",
        "client"
      ],
      "metadata": {
        "colab": {
          "base_uri": "https://localhost:8080/"
        },
        "id": "LqDjVi7Fk9JG",
        "outputId": "e4757618-b07e-4e83-a8b2-809806685bc1"
      },
      "execution_count": null,
      "outputs": [
        {
          "output_type": "stream",
          "name": "stdout",
          "text": [
            "Python 3.7 and 3.8 frameworks are deprecated and will be removed in a future release. Use Python 3.9 framework instead.\n"
          ]
        },
        {
          "output_type": "execute_result",
          "data": {
            "text/plain": [
              "<ibm_watson_machine_learning.client.APIClient at 0x7f6ea8a4d710>"
            ]
          },
          "metadata": {},
          "execution_count": 37
        }
      ]
    },
    {
      "cell_type": "code",
      "source": [
        "client.spaces.get_details()"
      ],
      "metadata": {
        "colab": {
          "base_uri": "https://localhost:8080/"
        },
        "id": "qfcav7f5nY6C",
        "outputId": "58e5e1d4-3a25-4687-9ba1-6a7acaa48f4e"
      },
      "execution_count": null,
      "outputs": [
        {
          "output_type": "execute_result",
          "data": {
            "text/plain": [
              "{'resources': [{'entity': {'compute': [{'crn': 'crn:v1:bluemix:public:pm-20:eu-gb:a/dced4fbe290c4320a2c9e11d16e82847:fbdf9d5c-a53a-4882-bd8d-cdb7b1355676::',\n",
              "      'guid': 'fbdf9d5c-a53a-4882-bd8d-cdb7b1355676',\n",
              "      'name': 'Watson Machine Learning-80',\n",
              "      'type': 'machine_learning'}],\n",
              "    'description': '',\n",
              "    'name': 'AI_Deploy',\n",
              "    'scope': {'bss_account_id': 'dced4fbe290c4320a2c9e11d16e82847'},\n",
              "    'stage': {'production': False},\n",
              "    'status': {'state': 'active'},\n",
              "    'storage': {'properties': {'bucket_name': '20c879cb-e65d-40cd-98bb-0fac434fea73',\n",
              "      'bucket_region': 'eu-gb-standard',\n",
              "      'credentials': {'admin': {'access_key_id': '34c946ea2d6d4b2da24cf82ecfa0d0ae',\n",
              "        'api_key': 'QCysFwrBOqezcrbSQuiFqhiHsB0HCcvh6jzWbRSldLTS',\n",
              "        'secret_access_key': '4690270aa71694ba3d156d9c478f1f4438406bc118735c48',\n",
              "        'service_id': 'ServiceId-55a7ed3d-d568-4576-82c7-23cf3e18e8e6'},\n",
              "       'editor': {'access_key_id': '99f62714eaa840b39019589430ebbaa9',\n",
              "        'api_key': 'Cam5eWYZJJD_rs-mh5M2Rx4VyrGsTJBuj8rgROGNDf7K',\n",
              "        'resource_key_crn': 'crn:v1:bluemix:public:cloud-object-storage:global:a/dced4fbe290c4320a2c9e11d16e82847:4ece8f93-a108-4c24-b566-307ef867544e::',\n",
              "        'secret_access_key': 'c30909553e6385284ba7f59003516ccb04c707108b01a110',\n",
              "        'service_id': 'ServiceId-2b457a2c-d029-4e17-a7b2-82aa64758add'},\n",
              "       'viewer': {'access_key_id': 'fc68622d97c0415490116085e7699987',\n",
              "        'api_key': 'dtkpR7JqzzcSd2Bwiq3TRn00Oq7t0bdNSKVnSQAzFEnx',\n",
              "        'resource_key_crn': 'crn:v1:bluemix:public:cloud-object-storage:global:a/dced4fbe290c4320a2c9e11d16e82847:4ece8f93-a108-4c24-b566-307ef867544e::',\n",
              "        'secret_access_key': '979b331faa703344d62e07c5e00ca613ec50269a7cdb50ce',\n",
              "        'service_id': 'ServiceId-4996fd9b-9728-4e52-823f-e73b942c294c'}},\n",
              "      'endpoint_url': 'https://s3.eu-gb.cloud-object-storage.appdomain.cloud',\n",
              "      'guid': '4ece8f93-a108-4c24-b566-307ef867544e',\n",
              "      'resource_crn': 'crn:v1:bluemix:public:cloud-object-storage:global:a/dced4fbe290c4320a2c9e11d16e82847:4ece8f93-a108-4c24-b566-307ef867544e::'},\n",
              "     'type': 'bmcos_object_storage'}},\n",
              "   'metadata': {'created_at': '2022-11-08T18:12:27.758Z',\n",
              "    'creator_id': 'IBMid-6640044D1T',\n",
              "    'id': 'a79eec6f-d446-412d-876c-fd891a2d63a2',\n",
              "    'updated_at': '2022-11-08T18:12:46.250Z',\n",
              "    'url': '/v2/spaces/a79eec6f-d446-412d-876c-fd891a2d63a2'}}]}"
            ]
          },
          "metadata": {},
          "execution_count": 38
        }
      ]
    },
    {
      "cell_type": "code",
      "source": [
        "client.spaces.list()"
      ],
      "metadata": {
        "colab": {
          "base_uri": "https://localhost:8080/"
        },
        "id": "EPN8mhCLnooB",
        "outputId": "bea2a33f-b99d-4bfb-a106-b6b4269fba35"
      },
      "execution_count": null,
      "outputs": [
        {
          "output_type": "stream",
          "name": "stdout",
          "text": [
            "Note: 'limit' is not provided. Only first 50 records will be displayed if the number of records exceed 50\n",
            "------------------------------------  ---------  ------------------------\n",
            "ID                                    NAME       CREATED\n",
            "a79eec6f-d446-412d-876c-fd891a2d63a2  AI_Deploy  2022-11-08T18:12:27.758Z\n",
            "------------------------------------  ---------  ------------------------\n"
          ]
        }
      ]
    },
    {
      "cell_type": "code",
      "source": [
        "space_uid = \"a79eec6f-d446-412d-876c-fd891a2d63a2\"\n",
        "space_uid"
      ],
      "metadata": {
        "colab": {
          "base_uri": "https://localhost:8080/",
          "height": 35
        },
        "id": "g4097N_sn1Tu",
        "outputId": "77c2101c-fe57-4f97-d24f-fd0ec5f87cf9"
      },
      "execution_count": null,
      "outputs": [
        {
          "output_type": "execute_result",
          "data": {
            "text/plain": [
              "'a79eec6f-d446-412d-876c-fd891a2d63a2'"
            ],
            "application/vnd.google.colaboratory.intrinsic+json": {
              "type": "string"
            }
          },
          "metadata": {},
          "execution_count": 40
        }
      ]
    },
    {
      "cell_type": "code",
      "source": [
        "client.set.default_space(space_uid)"
      ],
      "metadata": {
        "colab": {
          "base_uri": "https://localhost:8080/",
          "height": 35
        },
        "id": "juJ20z5voMSA",
        "outputId": "bf7a4ae7-b962-4a72-b63c-472142d043bf"
      },
      "execution_count": null,
      "outputs": [
        {
          "output_type": "execute_result",
          "data": {
            "text/plain": [
              "'SUCCESS'"
            ],
            "application/vnd.google.colaboratory.intrinsic+json": {
              "type": "string"
            }
          },
          "metadata": {},
          "execution_count": 41
        }
      ]
    },
    {
      "cell_type": "code",
      "source": [
        "client.software_specifications.list()"
      ],
      "metadata": {
        "colab": {
          "base_uri": "https://localhost:8080/"
        },
        "id": "s3pzqqwRoeus",
        "outputId": "563979cc-e19c-4a9e-ea96-7589be2cd9dd"
      },
      "execution_count": null,
      "outputs": [
        {
          "output_type": "stream",
          "name": "stdout",
          "text": [
            "-----------------------------  ------------------------------------  ----\n",
            "NAME                           ASSET_ID                              TYPE\n",
            "default_py3.6                  0062b8c9-8b7d-44a0-a9b9-46c416adcbd9  base\n",
            "kernel-spark3.2-scala2.12      020d69ce-7ac1-5e68-ac1a-31189867356a  base\n",
            "pytorch-onnx_1.3-py3.7-edt     069ea134-3346-5748-b513-49120e15d288  base\n",
            "scikit-learn_0.20-py3.6        09c5a1d0-9c1e-4473-a344-eb7b665ff687  base\n",
            "spark-mllib_3.0-scala_2.12     09f4cff0-90a7-5899-b9ed-1ef348aebdee  base\n",
            "pytorch-onnx_rt22.1-py3.9      0b848dd4-e681-5599-be41-b5f6fccc6471  base\n",
            "ai-function_0.1-py3.6          0cdb0f1e-5376-4f4d-92dd-da3b69aa9bda  base\n",
            "shiny-r3.6                     0e6e79df-875e-4f24-8ae9-62dcc2148306  base\n",
            "tensorflow_2.4-py3.7-horovod   1092590a-307d-563d-9b62-4eb7d64b3f22  base\n",
            "pytorch_1.1-py3.6              10ac12d6-6b30-4ccd-8392-3e922c096a92  base\n",
            "tensorflow_1.15-py3.6-ddl      111e41b3-de2d-5422-a4d6-bf776828c4b7  base\n",
            "runtime-22.1-py3.9             12b83a17-24d8-5082-900f-0ab31fbfd3cb  base\n",
            "scikit-learn_0.22-py3.6        154010fa-5b3b-4ac1-82af-4d5ee5abbc85  base\n",
            "default_r3.6                   1b70aec3-ab34-4b87-8aa0-a4a3c8296a36  base\n",
            "pytorch-onnx_1.3-py3.6         1bc6029a-cc97-56da-b8e0-39c3880dbbe7  base\n",
            "kernel-spark3.3-r3.6           1c9e5454-f216-59dd-a20e-474a5cdf5988  base\n",
            "pytorch-onnx_rt22.1-py3.9-edt  1d362186-7ad5-5b59-8b6c-9d0880bde37f  base\n",
            "tensorflow_2.1-py3.6           1eb25b84-d6ed-5dde-b6a5-3fbdf1665666  base\n",
            "spark-mllib_3.2                20047f72-0a98-58c7-9ff5-a77b012eb8f5  base\n",
            "tensorflow_2.4-py3.8-horovod   217c16f6-178f-56bf-824a-b19f20564c49  base\n",
            "runtime-22.1-py3.9-cuda        26215f05-08c3-5a41-a1b0-da66306ce658  base\n",
            "do_py3.8                       295addb5-9ef9-547e-9bf4-92ae3563e720  base\n",
            "autoai-ts_3.8-py3.8            2aa0c932-798f-5ae9-abd6-15e0c2402fb5  base\n",
            "tensorflow_1.15-py3.6          2b73a275-7cbf-420b-a912-eae7f436e0bc  base\n",
            "kernel-spark3.3-py3.9          2b7961e2-e3b1-5a8c-a491-482c8368839a  base\n",
            "pytorch_1.2-py3.6              2c8ef57d-2687-4b7d-acce-01f94976dac1  base\n",
            "spark-mllib_2.3                2e51f700-bca0-4b0d-88dc-5c6791338875  base\n",
            "pytorch-onnx_1.1-py3.6-edt     32983cea-3f32-4400-8965-dde874a8d67e  base\n",
            "spark-mllib_3.0-py37           36507ebe-8770-55ba-ab2a-eafe787600e9  base\n",
            "spark-mllib_2.4                390d21f8-e58b-4fac-9c55-d7ceda621326  base\n",
            "xgboost_0.82-py3.6             39e31acd-5f30-41dc-ae44-60233c80306e  base\n",
            "pytorch-onnx_1.2-py3.6-edt     40589d0e-7019-4e28-8daa-fb03b6f4fe12  base\n",
            "default_r36py38                41c247d3-45f8-5a71-b065-8580229facf0  base\n",
            "autoai-ts_rt22.1-py3.9         4269d26e-07ba-5d40-8f66-2d495b0c71f7  base\n",
            "autoai-obm_3.0                 42b92e18-d9ab-567f-988a-4240ba1ed5f7  base\n",
            "pmml-3.0_4.3                   493bcb95-16f1-5bc5-bee8-81b8af80e9c7  base\n",
            "spark-mllib_2.4-r_3.6          49403dff-92e9-4c87-a3d7-a42d0021c095  base\n",
            "xgboost_0.90-py3.6             4ff8d6c2-1343-4c18-85e1-689c965304d3  base\n",
            "pytorch-onnx_1.1-py3.6         50f95b2a-bc16-43bb-bc94-b0bed208c60b  base\n",
            "autoai-ts_3.9-py3.8            52c57136-80fa-572e-8728-a5e7cbb42cde  base\n",
            "spark-mllib_2.4-scala_2.11     55a70f99-7320-4be5-9fb9-9edb5a443af5  base\n",
            "spark-mllib_3.0                5c1b0ca2-4977-5c2e-9439-ffd44ea8ffe9  base\n",
            "autoai-obm_2.0                 5c2e37fa-80b8-5e77-840f-d912469614ee  base\n",
            "spss-modeler_18.1              5c3cad7e-507f-4b2a-a9a3-ab53a21dee8b  base\n",
            "cuda-py3.8                     5d3232bf-c86b-5df4-a2cd-7bb870a1cd4e  base\n",
            "autoai-kb_3.1-py3.7            632d4b22-10aa-5180-88f0-f52dfb6444d7  base\n",
            "pytorch-onnx_1.7-py3.8         634d3cdc-b562-5bf9-a2d4-ea90a478456b  base\n",
            "spark-mllib_2.3-r_3.6          6586b9e3-ccd6-4f92-900f-0f8cb2bd6f0c  base\n",
            "tensorflow_2.4-py3.7           65e171d7-72d1-55d9-8ebb-f813d620c9bb  base\n",
            "spss-modeler_18.2              687eddc9-028a-4117-b9dd-e57b36f1efa5  base\n",
            "-----------------------------  ------------------------------------  ----\n",
            "Note: Only first 50 records were displayed. To display more use 'limit' parameter.\n"
          ]
        }
      ]
    },
    {
      "cell_type": "code",
      "source": [
        "software_space_id = client.software_specifications.get_uid_by_name('tensorflow_rt22.1-py3.9')\n",
        "software_space_id"
      ],
      "metadata": {
        "colab": {
          "base_uri": "https://localhost:8080/",
          "height": 35
        },
        "id": "IPEJtQpmotXR",
        "outputId": "d9cf7967-f10f-4e75-820b-4fb36cdccc98"
      },
      "execution_count": null,
      "outputs": [
        {
          "output_type": "execute_result",
          "data": {
            "text/plain": [
              "'acd9c798-6974-5d2f-a657-ce06e986df4d'"
            ],
            "application/vnd.google.colaboratory.intrinsic+json": {
              "type": "string"
            }
          },
          "metadata": {},
          "execution_count": 44
        }
      ]
    },
    {
      "cell_type": "code",
      "source": [
        "model_details = client.repository.store_model(model = 'nutrition-analyzer.tgz', meta_props={\n",
        "    client.repository.ModelMetaNames.NAME:\"NUTRITION ANALYZER Model\", \n",
        "    client.repository.ModelMetaNames.TYPE:'tensorflow_2.7',\n",
        "    client.repository.ModelMetaNames.SOFTWARE_SPEC_UID:software_space_id\n",
        "})"
      ],
      "metadata": {
        "id": "EaEMW5DYpu2f"
      },
      "execution_count": null,
      "outputs": []
    },
    {
      "cell_type": "code",
      "source": [
        "model_details"
      ],
      "metadata": {
        "colab": {
          "base_uri": "https://localhost:8080/"
        },
        "id": "6CWqRBbgrRTB",
        "outputId": "b8a30bab-3e60-43fb-cf14-d2ca4c0d1a21"
      },
      "execution_count": null,
      "outputs": [
        {
          "output_type": "execute_result",
          "data": {
            "text/plain": [
              "{'entity': {'hybrid_pipeline_software_specs': [],\n",
              "  'software_spec': {'id': 'acd9c798-6974-5d2f-a657-ce06e986df4d',\n",
              "   'name': 'tensorflow_rt22.1-py3.9'},\n",
              "  'type': 'tensorflow_2.7'},\n",
              " 'metadata': {'created_at': '2022-11-08T19:17:29.295Z',\n",
              "  'id': '91696d78-4e29-4bed-896e-5aab006fe825',\n",
              "  'modified_at': '2022-11-08T19:17:32.722Z',\n",
              "  'name': 'NUTRITION ANALYZER Model',\n",
              "  'owner': 'IBMid-6640044D1T',\n",
              "  'resource_key': 'ef97eafa-bb8c-4f98-a9f8-71a7ee63e3a4',\n",
              "  'space_id': 'a79eec6f-d446-412d-876c-fd891a2d63a2'},\n",
              " 'system': {'warnings': []}}"
            ]
          },
          "metadata": {},
          "execution_count": 46
        }
      ]
    },
    {
      "cell_type": "code",
      "source": [
        "model_id = client.repository.get_model_id(model_details)\n",
        "model_id"
      ],
      "metadata": {
        "colab": {
          "base_uri": "https://localhost:8080/",
          "height": 35
        },
        "id": "j4USTt0GrZUP",
        "outputId": "2a249622-e21c-4362-d030-1049b94753cd"
      },
      "execution_count": null,
      "outputs": [
        {
          "output_type": "execute_result",
          "data": {
            "text/plain": [
              "'91696d78-4e29-4bed-896e-5aab006fe825'"
            ],
            "application/vnd.google.colaboratory.intrinsic+json": {
              "type": "string"
            }
          },
          "metadata": {},
          "execution_count": 49
        }
      ]
    },
    {
      "cell_type": "code",
      "source": [
        "client.repository.download(model_id, 'NUTRITION_ANALYZER_model.tar.gb')"
      ],
      "metadata": {
        "colab": {
          "base_uri": "https://localhost:8080/",
          "height": 53
        },
        "id": "ofjr-2Dxr7gN",
        "outputId": "671fff4a-98dc-45ed-d9e9-b3e72b25b6fe"
      },
      "execution_count": null,
      "outputs": [
        {
          "output_type": "stream",
          "name": "stdout",
          "text": [
            "Successfully saved model content to file: 'NUTRITION_ANALYZER_model.tar.gb'\n"
          ]
        },
        {
          "output_type": "execute_result",
          "data": {
            "text/plain": [
              "'/content/NUTRITION_ANALYZER_model.tar.gb'"
            ],
            "application/vnd.google.colaboratory.intrinsic+json": {
              "type": "string"
            }
          },
          "metadata": {},
          "execution_count": 50
        }
      ]
    }
  ]
}